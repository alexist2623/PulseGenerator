{
 "cells": [
  {
   "cell_type": "code",
   "execution_count": null,
   "id": "2e3cd839",
   "metadata": {},
   "outputs": [],
   "source": []
  },
  {
   "cell_type": "code",
   "execution_count": 1,
   "id": "97a6e522",
   "metadata": {},
   "outputs": [],
   "source": [
    "import qcodes\n",
    "import pyqtgraph as pg\n",
    "\n",
    "import qtt.simulation.virtual_dot_array\n",
    "import qtt.instrument_drivers.simulation_instruments\n",
    "from importlib import reload\n",
    "\n",
    "reload(qtt.instrument_drivers.simulation_instruments)\n",
    "reload(qtt.measurements.scans)\n",
    "from qtt.instrument_drivers.simulation_instruments import SimulationDigitizer\n",
    "from qtt.instrument_drivers.simulation_instruments import SimulationAWG\n",
    "from qtt.measurements.videomode_processor import DummyVideoModeProcessor\n",
    "from qtt.measurements.videomode import VideoMode\n",
    "\n",
    "from QCSVideoProcessor import QCSVideomodeProcessor\n",
    "from qstl_dots import QSTLDotModel\n",
    "\n",
    "model_name      = \"dotmodel\"\n",
    "model           = QSTLDotModel(\n",
    "    name = model_name,\n",
    "    verbose = 1,\n",
    "    dot_configuration = \"dot_config.json\"\n",
    ")\n",
    "station         = qcodes.Station(model.gates, model, update_snapshot=False)\n",
    "gates           = station.gates\n",
    "pv              = qtt.createParameterWidget([gates])  # type: ignore\n",
    "# verbose         = 1\n",
    "# multiprocess    = False\n"
   ]
  },
  {
   "cell_type": "code",
   "execution_count": 2,
   "id": "b0fd1605",
   "metadata": {},
   "outputs": [
    {
     "name": "stdout",
     "output_type": "stream",
     "text": [
      "{'G0': (1, 7, 3), 'G1': (1, 7, 1), 'P0': (1, 7, 2)}\n"
     ]
    }
   ],
   "source": [
    "print(station.dotmodel.gate_mapping)"
   ]
  },
  {
   "cell_type": "code",
   "execution_count": null,
   "id": "d312ed3c",
   "metadata": {},
   "outputs": [
    {
     "name": "stdout",
     "output_type": "stream",
     "text": [
      "Channels(labels=[0], name=G0, absolute_phase=False)\n",
      "(1, 7, 3)\n",
      "Channels(labels=[0], name=G1, absolute_phase=False)\n",
      "(1, 7, 1)\n",
      "Channels(labels=[0], name=P0, absolute_phase=False)\n",
      "(1, 7, 2)\n",
      "live_plotting: is1dscan False\n",
      "enable_averaging called, undefined: value True\n",
      "VideoMode: run \n",
      "VideoMode: run: startreadout\n",
      "VideoMode: start readout\n"
     ]
    },
    {
     "data": {
      "application/vnd.jupyter.widget-view+json": {
       "model_id": "e326ad5153ac413095afaf967bdc2c22",
       "version_major": 2,
       "version_minor": 0
      },
      "text/plain": [
       "  0%|          | 0/1 [00:00<?, ?it/s]"
      ]
     },
     "metadata": {},
     "output_type": "display_data"
    },
    {
     "data": {
      "application/vnd.jupyter.widget-view+json": {
       "model_id": "f12f54f50bc64ab8baa97cf6ecd5fbca",
       "version_major": 2,
       "version_minor": 0
      },
      "text/plain": [
       "  0%|          | 0/1 [00:00<?, ?it/s]"
      ]
     },
     "metadata": {},
     "output_type": "display_data"
    },
    {
     "data": {
      "application/vnd.jupyter.widget-view+json": {
       "model_id": "ff3b7dc128c44321a755798a95899436",
       "version_major": 2,
       "version_minor": 0
      },
      "text/plain": [
       "  0%|          | 0/1 [00:00<?, ?it/s]"
      ]
     },
     "metadata": {},
     "output_type": "display_data"
    },
    {
     "data": {
      "application/vnd.jupyter.widget-view+json": {
       "model_id": "2cead5cd0fac486f9b3d507a395f583f",
       "version_major": 2,
       "version_minor": 0
      },
      "text/plain": [
       "  0%|          | 0/1 [00:00<?, ?it/s]"
      ]
     },
     "metadata": {},
     "output_type": "display_data"
    },
    {
     "data": {
      "application/vnd.jupyter.widget-view+json": {
       "model_id": "528ec4dc21a2422286bbb772f5b9686e",
       "version_major": 2,
       "version_minor": 0
      },
      "text/plain": [
       "  0%|          | 0/1 [00:00<?, ?it/s]"
      ]
     },
     "metadata": {},
     "output_type": "display_data"
    },
    {
     "data": {
      "application/vnd.jupyter.widget-view+json": {
       "model_id": "6f2640f04b4c4738bf7ebce57d63bd7a",
       "version_major": 2,
       "version_minor": 0
      },
      "text/plain": [
       "  0%|          | 0/1 [00:00<?, ?it/s]"
      ]
     },
     "metadata": {},
     "output_type": "display_data"
    },
    {
     "data": {
      "application/vnd.jupyter.widget-view+json": {
       "model_id": "e544635982e144c1888e8d828f6abd98",
       "version_major": 2,
       "version_minor": 0
      },
      "text/plain": [
       "  0%|          | 0/1 [00:00<?, ?it/s]"
      ]
     },
     "metadata": {},
     "output_type": "display_data"
    },
    {
     "data": {
      "application/vnd.jupyter.widget-view+json": {
       "model_id": "abd576858eba4a70af94f8552ce0d646",
       "version_major": 2,
       "version_minor": 0
      },
      "text/plain": [
       "  0%|          | 0/1 [00:00<?, ?it/s]"
      ]
     },
     "metadata": {},
     "output_type": "display_data"
    },
    {
     "data": {
      "application/vnd.jupyter.widget-view+json": {
       "model_id": "87e3bd9df100499f95dac8fcc17809f9",
       "version_major": 2,
       "version_minor": 0
      },
      "text/plain": [
       "  0%|          | 0/1 [00:00<?, ?it/s]"
      ]
     },
     "metadata": {},
     "output_type": "display_data"
    },
    {
     "data": {
      "application/vnd.jupyter.widget-view+json": {
       "model_id": "a5798844d18f42efaa3ddd60f892c56e",
       "version_major": 2,
       "version_minor": 0
      },
      "text/plain": [
       "  0%|          | 0/1 [00:00<?, ?it/s]"
      ]
     },
     "metadata": {},
     "output_type": "display_data"
    },
    {
     "data": {
      "application/vnd.jupyter.widget-view+json": {
       "model_id": "f56045eb21274392a1cde0debc892ac8",
       "version_major": 2,
       "version_minor": 0
      },
      "text/plain": [
       "  0%|          | 0/1 [00:00<?, ?it/s]"
      ]
     },
     "metadata": {},
     "output_type": "display_data"
    },
    {
     "data": {
      "application/vnd.jupyter.widget-view+json": {
       "model_id": "cdd3102781224f5692182e4763cbe71a",
       "version_major": 2,
       "version_minor": 0
      },
      "text/plain": [
       "  0%|          | 0/1 [00:00<?, ?it/s]"
      ]
     },
     "metadata": {},
     "output_type": "display_data"
    },
    {
     "data": {
      "application/vnd.jupyter.widget-view+json": {
       "model_id": "a335c744b2d84218877a969810594bda",
       "version_major": 2,
       "version_minor": 0
      },
      "text/plain": [
       "  0%|          | 0/1 [00:00<?, ?it/s]"
      ]
     },
     "metadata": {},
     "output_type": "display_data"
    },
    {
     "data": {
      "application/vnd.jupyter.widget-view+json": {
       "model_id": "78e603c803a14662905503ae960fddb0",
       "version_major": 2,
       "version_minor": 0
      },
      "text/plain": [
       "  0%|          | 0/1 [00:00<?, ?it/s]"
      ]
     },
     "metadata": {},
     "output_type": "display_data"
    },
    {
     "name": "stdout",
     "output_type": "stream",
     "text": [
      "VideoMode: stop readout\n",
      "VideoMode: stop_videomode \n"
     ]
    }
   ],
   "source": [
    "qcs_processor = QCSVideomodeProcessor(station, model_name)\n",
    "\n",
    "sweepparams = ['G0', 'G1']\n",
    "sweepranges = [800, 800]\n",
    "resolution = [20, 20]\n",
    "\n",
    "vm = VideoMode(\n",
    "    station,\n",
    "    sweepparams,\n",
    "    sweepranges,\n",
    "    minstrument         = None,\n",
    "    Naverage            =25,\n",
    "    resolution          =resolution,\n",
    "    sample_rate         ='default',\n",
    "    diff_dir            =None,\n",
    "    verbose             =1,\n",
    "    nplots              =1,\n",
    "    dorun               =False,\n",
    "    videomode_processor =qcs_processor,\n",
    ")\n",
    "\n",
    "vm.run()\n",
    "vm.setGeometry(1310, 100, 800, 800)\n",
    "\n",
    "vm.updatebg()\n",
    "\n",
    "pg.exec()"
   ]
  },
  {
   "cell_type": "code",
   "execution_count": null,
   "id": "eb638619",
   "metadata": {},
   "outputs": [
    {
     "data": {
      "application/vnd.jupyter.widget-view+json": {
       "model_id": "64c5bcf7a9844dbc91fc5450aa6e06fe",
       "version_major": 2,
       "version_minor": 0
      },
      "text/plain": [
       "  0%|          | 0/1 [00:00<?, ?it/s]"
      ]
     },
     "metadata": {},
     "output_type": "display_data"
    },
    {
     "name": "stdout",
     "output_type": "stream",
     "text": [
      "[array([[2.47384015e-05, 2.29454784e-05, 1.58253965e-05],\n",
      "       [4.39039180e-05, 2.91707949e-05, 3.69060255e-05],\n",
      "       [3.66124174e-05, 3.61727674e-05, 2.40149837e-05],\n",
      "       [2.36034387e-06, 2.36034387e-06, 2.36034387e-06],\n",
      "       [2.36034387e-06, 2.36034387e-06, 2.36034387e-06]])]\n"
     ]
    }
   ],
   "source": [
    "\n",
    "# measured_data = vm.videomode_processor.measure(vm)\n",
    "# dd = vm.videomode_processor.process(measured_data, vm)\n",
    "# print(dd)\n"
   ]
  }
 ],
 "metadata": {
  "kernelspec": {
   "display_name": "Python 3",
   "language": "python",
   "name": "python3"
  },
  "language_info": {
   "codemirror_mode": {
    "name": "ipython",
    "version": 3
   },
   "file_extension": ".py",
   "mimetype": "text/x-python",
   "name": "python",
   "nbconvert_exporter": "python",
   "pygments_lexer": "ipython3",
   "version": "3.9.13"
  }
 },
 "nbformat": 4,
 "nbformat_minor": 5
}

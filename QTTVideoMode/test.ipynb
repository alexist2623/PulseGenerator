{
 "cells": [
  {
   "cell_type": "code",
   "execution_count": null,
   "id": "97a6e522",
   "metadata": {},
   "outputs": [],
   "source": [
    "\"\"\"Keysight QCS based Videomode\"\"\"\n",
    "import pyqtgraph as pg\n",
    "\n",
    "import qtt\n",
    "from qtt.measurements.videomode import VideoMode\n",
    "from QCSVideoProcessor import QCSVideomodeProcessor\n",
    "from qstl_dots import QSTLDotModel\n",
    "\n",
    "# Define cross capacitance matrix for virtual gate.\n",
    "# If crosscap_map is not specified, it is set to identity matrix\n",
    "# automatically.\n",
    "cross_cap_map = {\n",
    "    'VG0': {'G0': 0.5, 'G1': -0.5, 'P0': 0.0, 'P1': 0.0},\n",
    "    'VG1': {'G0': 0.5, 'G1': 0.5, 'P0': 0.0, 'P1': 0.0},\n",
    "    'VP0': {'G0': 0.0, 'G1': 0.0, 'P0': 1.0, 'P1': 0.0},\n",
    "    'VP1': {'G0': 0.0, 'G1': 0.0, 'P0': 0.0, 'P1': 1.0}\n",
    "}\n",
    "\n",
    "model_name      = \"dotmodel\"\n",
    "model           = QSTLDotModel(\n",
    "    name        = model_name,\n",
    "    verbose     = 1,\n",
    "    dot_configuration = \"dot_config.json\",\n",
    "    crosscap_map= cross_cap_map\n",
    ")\n",
    "station         = model.station\n",
    "gates           = station.gates\n",
    "# Make parameter control widget\n",
    "pv              = qtt.createParameterWidget([gates])\n",
    "qcs_processor   = QCSVideomodeProcessor(station, model_name)\n",
    "vm              = VideoMode(\n",
    "    station     = station,\n",
    "    sweepparams = qcs_processor.sweepparams,\n",
    "    sweepranges = qcs_processor.sweepranges,\n",
    "    minstrument = None,\n",
    "    Naverage    = 25,\n",
    "    resolution  = qcs_processor.resolution,\n",
    "    sample_rate = \"default\",\n",
    "    diff_dir    = None,\n",
    "    verbose     = 0,\n",
    "    nplots      = 2,\n",
    "    dorun       = False,\n",
    "    videomode_processor = qcs_processor,\n",
    ")\n",
    "\n",
    "vm.run()\n",
    "vm.setGeometry(100, 100, 800, 800)\n",
    "vm.updatebg()\n",
    "\n",
    "# Make sure to run below code to run GUI properly.\n",
    "pg.exec()\n"
   ]
  },
  {
   "cell_type": "code",
   "execution_count": null,
   "id": "b0fd1605",
   "metadata": {},
   "outputs": [],
   "source": [
    "print(gates.get_crosscap_map())"
   ]
  }
 ],
 "metadata": {
  "kernelspec": {
   "display_name": "Python 3",
   "language": "python",
   "name": "python3"
  },
  "language_info": {
   "codemirror_mode": {
    "name": "ipython",
    "version": 3
   },
   "file_extension": ".py",
   "mimetype": "text/x-python",
   "name": "python",
   "nbconvert_exporter": "python",
   "pygments_lexer": "ipython3",
   "version": "3.9.13"
  }
 },
 "nbformat": 4,
 "nbformat_minor": 5
}
